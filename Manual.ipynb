{
 "cells": [
  {
   "cell_type": "markdown",
   "metadata": {},
   "source": [
    "# Transient Heat Condiction Problem"
   ]
  },
  {
   "cell_type": "markdown",
   "metadata": {},
   "source": [
    "$$ \\frac{\\partial \\rho T}{\\partial t} = \\frac{\\partial}{\\partial x} (\\frac{k}{c_p} \\frac{\\partial T}{\\partial x}) $$"
   ]
  },
  {
   "cell_type": "markdown",
   "metadata": {},
   "source": [
    "Considering the Finite Volume Method (FVM), the unidimensional equation will be solved for T by integrating both sides over a control volume (from a face in position $x$ to a face in the position $x+dx$) and over time (from time $t$ to $t+dt$), as in"
   ]
  },
  {
   "cell_type": "markdown",
   "metadata": {},
   "source": [
    "$$ \\int_{x}^{x+\\Delta x} \\int_{t}^{t+\\Delta t} \\frac{\\partial \\rho T}{\\partial t} dt\\ dx = \\int_{x}^{x+\\Delta x} \\int_{t}^{t+\\Delta t} \\frac{\\partial}{\\partial x} (\\frac{k}{c_p} \\frac{\\partial T}{\\partial x}) dt\\ dx$$"
   ]
  },
  {
   "cell_type": "markdown",
   "metadata": {},
   "source": [
    "Imagining an 1D domain, represented using several control volume elements (As shown below), then $x$ = $T_w$, and $x+\\Delta x$ = $T_e$ (That is, the property available at the domain's limits, not their centers)."
   ]
  },
  {
   "cell_type": "markdown",
   "metadata": {},
   "source": [
    "<img src=\"domain_example.png\">"
   ]
  },
  {
   "cell_type": "markdown",
   "metadata": {},
   "source": [
    "This results in"
   ]
  },
  {
   "cell_type": "markdown",
   "metadata": {},
   "source": [
    "$$ \\int_{w}^{e} (\\rho T_P - \\rho T_P^o) dx = \\int_{t}^{t+\\Delta t} \\frac{k}{c_p} \\frac{\\partial T}{\\partial x}\\bigg\\rvert_e - \\frac{k}{c_p} \\frac{\\partial T}{\\partial x}\\bigg\\rvert_w dt$$"
   ]
  },
  {
   "cell_type": "markdown",
   "metadata": {},
   "source": [
    "Let now assume that tha property is constant over $T_X$ from face $T_w$ to face $T_e$. Let's also not specify the behavior of the integral of the properties on the right side of the equation, letting $\\theta$ be a variable that will specify it later (As done in [1]). This leads to the following equation:"
   ]
  },
  {
   "cell_type": "markdown",
   "metadata": {},
   "source": [
    "$$ (\\rho T_P - \\rho T_P^o)\\Delta x = (\\frac{k}{c_p} \\frac{\\partial T}{\\partial x}\\bigg\\rvert_e^\\theta - \\frac{k}{c_p} \\frac{\\partial T}{\\partial x}\\bigg\\rvert_w^\\theta)\\Delta t$$"
   ]
  },
  {
   "cell_type": "markdown",
   "metadata": {},
   "source": [
    "To approximate the values of the derivative of $T$ over the faces $T_w$ and $T_e$, it'll be used a common central differences approach, that is"
   ]
  },
  {
   "cell_type": "markdown",
   "metadata": {},
   "source": [
    "$$\\frac{\\Delta F}{\\Delta x} = \\frac{F(x + \\Delta x) - F(x - \\Delta x)}{\\Delta x}$$"
   ]
  },
  {
   "cell_type": "markdown",
   "metadata": {},
   "source": [
    "Remember, again, that $F(x-\\Delta x) = F_w$ and $F(x+\\Delta x) = F_e$, then"
   ]
  },
  {
   "cell_type": "markdown",
   "metadata": {},
   "source": [
    "$$ (\\rho T_P - \\rho T_P^o)\\Delta x = (\\frac{k}{c_p} \\frac{T_E^\\theta - T_P^\\theta}{\\Delta x} - \\frac{k}{c_p} \\frac{T_P^\\theta - T_W^\\theta}{\\Delta x})\\Delta t$$"
   ]
  },
  {
   "cell_type": "markdown",
   "metadata": {},
   "source": [
    "Where $T^\\theta = \\theta T + (1 - \\theta) T^o$"
   ]
  },
  {
   "cell_type": "markdown",
   "metadata": {},
   "source": [
    "## Explicit Formulation"
   ]
  },
  {
   "cell_type": "markdown",
   "metadata": {},
   "source": [
    "For the explicit case, $\\theta = 0$, and the equation will be simply $T_P = f(T_P^o, T_W^o, T_E^o)$, as shown bellow:"
   ]
  },
  {
   "cell_type": "markdown",
   "metadata": {},
   "source": [
    "$$ (\\rho T_P - \\rho T_P^o)\\Delta x = (\\frac{k}{c_p} \\frac{T_E^o - T_P^o}{\\Delta x} - \\frac{k}{c_p} \\frac{T_P^o - T_W^o}{\\Delta x})\\Delta t$$"
   ]
  },
  {
   "cell_type": "markdown",
   "metadata": {},
   "source": [
    "So, $T_P$ is the only unknown variable at this point. For the case of the first timestep, $T_P^o$, $T_E^o$ and $T_W^o$ must be known. Also, for the boundaries, values for $T_E$ and $T_W$ must be specified. This leads to the following equation:"
   ]
  },
  {
   "cell_type": "markdown",
   "metadata": {},
   "source": [
    "$$\\frac{\\rho \\Delta x}{\\Delta t} T_P = \\frac{k}{c_p \\Delta x} T_E^o - 2\\frac{k}{c_p \\Delta x} T_P^o + \\frac{k}{c_p \\Delta x} T_W^o + \\frac{\\rho \\Delta x}{\\Delta t} T_P^o$$"
   ]
  },
  {
   "cell_type": "markdown",
   "metadata": {},
   "source": [
    "## Fully Implicit Formulation"
   ]
  },
  {
   "cell_type": "markdown",
   "metadata": {},
   "source": [
    "For the fully implicit formulation, $\\theta = 1$, and thus:"
   ]
  },
  {
   "cell_type": "markdown",
   "metadata": {},
   "source": [
    "$$ (\\rho T_P - \\rho T_P^o)\\Delta x = (\\frac{k}{c_p} \\frac{T_E - T_P}{\\Delta x} - \\frac{k}{c_p} \\frac{T_P - T_W}{\\Delta x})\\Delta t$$"
   ]
  },
  {
   "cell_type": "markdown",
   "metadata": {},
   "source": [
    "And then, $T_P$ appears on both sides of the equation. There are also more unknowns ($T_E$ and $T_W$) in each cell equation. This means that this approach needs to be solved with a linear solver. It is desired to have something with the structure of a linear equation, with the following format:"
   ]
  },
  {
   "cell_type": "markdown",
   "metadata": {},
   "source": [
    "$$[A][X] = [B]$$"
   ]
  },
  {
   "cell_type": "markdown",
   "metadata": {},
   "source": [
    "Where $[A]$ and $[B]$ are matrices with $n_x$ x $n_x$ elements (Mesh size). Each size in $[A]$ correspond to the coefs of the linear equation.\n",
    "\n",
    "Because of that, each coeficient for A is separated, as in the explicit formulation:"
   ]
  },
  {
   "cell_type": "markdown",
   "metadata": {},
   "source": [
    "$$\\frac{\\rho \\Delta x}{\\Delta t} T_P = \\frac{k}{c_p \\Delta x} T_E - 2\\frac{k}{c_p \\Delta x} T_P + \\frac{k}{c_p \\Delta x} T_W + \\frac{\\rho \\Delta x}{\\Delta t} T_P^o$$"
   ]
  },
  {
   "cell_type": "markdown",
   "metadata": {},
   "source": [
    "But for this case, the unknowns will be in the left side of the equation, and the knowns in the right side, to form the matrix $[B]$:"
   ]
  },
  {
   "cell_type": "markdown",
   "metadata": {},
   "source": [
    "$$\\frac{\\rho \\Delta x}{\\Delta t} T_P - \\frac{k}{c_p \\Delta x} T_E + 2\\frac{k}{c_p \\Delta x} T_P - \\frac{k}{c_p \\Delta x} T_W = \\frac{\\rho \\Delta x}{\\Delta t} T_P^o$$"
   ]
  },
  {
   "cell_type": "markdown",
   "metadata": {},
   "source": [
    "$$(2\\frac{k}{c_p \\Delta x} + \\frac{\\rho \\Delta x}{\\Delta t}) T_P - \\frac{k}{c_p \\Delta x} T_E - \\frac{k}{c_p \\Delta x} T_W = \\frac{\\rho \\Delta x}{\\Delta t} T_P^o$$"
   ]
  },
  {
   "cell_type": "markdown",
   "metadata": {},
   "source": [
    "It is imporant to notice that the structure of the matrix $[A]$ in this case will be a banded (tridiagonal) matrix. Because of that, it is possible to separate each coeficient in the above equation, such that it'll be easy to build such matrix:"
   ]
  },
  {
   "cell_type": "markdown",
   "metadata": {},
   "source": [
    "$$A_P*T_P = A_E*T_E + A_W*T_W + B_P$$\n",
    "$$A_P = (2\\frac{k}{c_p \\Delta x} + \\frac{\\rho \\Delta x}{\\Delta t})$$\n",
    "$$A_E = A_W = \\frac{k}{c_p \\Delta x}$$\n",
    "$$B_P = \\frac{\\rho \\Delta x}{\\Delta t} T_P^o$$"
   ]
  },
  {
   "cell_type": "markdown",
   "metadata": {},
   "source": [
    "For this problem, it is assumed that $T_E$ and $T_W$ are known at the boundaries (To simplify the final implementation's version), that is, there are ghost nodes with a pre-defined solution at the boundary of the domain. Since we know the solution for those nodes, they'll not be solved."
   ]
  },
  {
   "cell_type": "markdown",
   "metadata": {
    "collapsed": true
   },
   "source": [
    "## Bidimensional problem"
   ]
  },
  {
   "cell_type": "markdown",
   "metadata": {},
   "source": [
    "In order to extend the solution for the 2D problem, it is necessary to go back to the original problem and extend it accordingly:"
   ]
  },
  {
   "cell_type": "markdown",
   "metadata": {},
   "source": [
    "$$ \\frac{\\partial \\rho T}{\\partial t} = \\frac{\\partial}{\\partial x} (\\frac{k}{c_p} \\frac{\\partial T}{\\partial x}) + \\frac{\\partial}{\\partial y} (\\frac{k}{c_p} \\frac{\\partial T}{\\partial y}) $$"
   ]
  },
  {
   "cell_type": "markdown",
   "metadata": {},
   "source": [
    "For this, it is easy to see that it is possible to, again, integrate the whole equation over time and space, aplying the FVM. This will lead to something similar to the equation below."
   ]
  },
  {
   "cell_type": "markdown",
   "metadata": {},
   "source": [
    "$$ \\int_{x}^{x+\\Delta x} \\int_{y}^{y+\\Delta y} \\int_{t}^{t+\\Delta t} (...) dt\\ dx = \\int_{x}^{x+\\Delta x} \\int_{y}^{y+\\Delta y} \\int_{t}^{t+\\Delta t} (...) dt\\ dx + \\int_{x}^{x+\\Delta x} \\int_{y}^{y+\\Delta y} \\int_{t}^{t+\\Delta t} \\frac{\\partial}{\\partial y} (\\frac{k}{c_p} \\frac{\\partial T}{\\partial y}) dt\\ dy$$"
   ]
  },
  {
   "cell_type": "markdown",
   "metadata": {},
   "source": [
    "In fact, the problem didn't changed that much, and it is easy to make again similar steps for this case (At this point, already assuming the fully implicit formulation):"
   ]
  },
  {
   "cell_type": "markdown",
   "metadata": {},
   "source": [
    "$$ (\\rho T_P - \\rho T_P^o)\\Delta x \\Delta y = (\\frac{k}{c_p} \\frac{T_E - T_P}{\\Delta x} - \\frac{k}{c_p} \\frac{T_P - T_W}{\\Delta x}) \\Delta y \\Delta t + (\\frac{k}{c_p} + \\frac{T_N - T_P}{\\Delta y} - \\frac{k}{c_p} \\frac{T_P - T_S}{\\Delta y})  \\Delta x \\Delta t$$"
   ]
  },
  {
   "cell_type": "markdown",
   "metadata": {},
   "source": [
    "$$\\frac{\\rho \\Delta x \\Delta y}{\\Delta t} T_P = \\frac{k \\Delta y}{c_p \\Delta x} T_E - 2\\frac{k \\Delta y}{c_p \\Delta x} T_P + \\frac{k \\Delta y}{c_p \\Delta x} T_W + \\frac{k \\Delta x}{c_p \\Delta y} T_N - 2\\frac{k \\Delta x}{c_p \\Delta y} T_P + \\frac{k \\Delta x}{c_p \\Delta y} T_S + \\frac{\\rho \\Delta x \\Delta y}{\\Delta t} T_P^o$$"
   ]
  },
  {
   "cell_type": "markdown",
   "metadata": {},
   "source": [
    "$$\\frac{\\rho \\Delta x \\Delta y}{\\Delta t} T_P + 2\\frac{k \\Delta y}{c_p \\Delta x} T_P + 2\\frac{k \\Delta x}{c_p \\Delta y} T_P = \\frac{k \\Delta y}{c_p \\Delta x} T_E + \\frac{k \\Delta y}{c_p \\Delta x} T_W + \\frac{k \\Delta x}{c_p \\Delta y} T_N + \\frac{k \\Delta x}{c_p \\Delta y} T_S + \\frac{\\rho \\Delta x \\Delta y}{\\Delta t} T_P^o$$"
   ]
  },
  {
   "cell_type": "markdown",
   "metadata": {},
   "source": [
    "$$(\\frac{\\rho \\Delta x \\Delta y}{\\Delta t} + 2\\frac{k \\Delta y}{c_p \\Delta x} + 2\\frac{k \\Delta x}{c_p \\Delta y}) T_P = \\frac{k \\Delta y}{c_p \\Delta x} T_E + \\frac{k \\Delta y}{c_p \\Delta x} T_W + \\frac{k \\Delta x}{c_p \\Delta y} T_N + \\frac{k \\Delta x}{c_p \\Delta y} T_S + \\frac{\\rho \\Delta x \\Delta y}{\\Delta t} T_P^o$$"
   ]
  },
  {
   "cell_type": "markdown",
   "metadata": {},
   "source": [
    "Where it is easy to retrieve $A_P$, $A_E$, $A_W$, $A_N$, $A_S$ and $B_P$."
   ]
  },
  {
   "cell_type": "markdown",
   "metadata": {},
   "source": [
    "## Results from first implementation"
   ]
  },
  {
   "cell_type": "markdown",
   "metadata": {},
   "source": [
    "A first version of this model has been implemented and solved with PETSc. As a first problem, the left and right boundary ghost node elements have been prescribed with functions derived from $sin(t)$ and $cos(t)$. The result is shown below in gif format. This result can be obtained with git tag: `v1.0.0`"
   ]
  },
  {
   "cell_type": "markdown",
   "metadata": {},
   "source": [
    "![](images/sincos_v1.0.0.gif)"
   ]
  },
  {
   "cell_type": "markdown",
   "metadata": {},
   "source": [
    "# Bibliografy"
   ]
  },
  {
   "cell_type": "markdown",
   "metadata": {},
   "source": [
    "[1] MALISKA, C. R. - Transferência de Calor e Mecânica dos Fluidos Computacional, 2a Edição"
   ]
  }
 ],
 "metadata": {
  "kernelspec": {
   "display_name": "Python 2",
   "language": "python",
   "name": "python2"
  },
  "language_info": {
   "codemirror_mode": {
    "name": "ipython",
    "version": 2
   },
   "file_extension": ".py",
   "mimetype": "text/x-python",
   "name": "python",
   "nbconvert_exporter": "python",
   "pygments_lexer": "ipython2",
   "version": "2.7.12"
  }
 },
 "nbformat": 4,
 "nbformat_minor": 2
}
